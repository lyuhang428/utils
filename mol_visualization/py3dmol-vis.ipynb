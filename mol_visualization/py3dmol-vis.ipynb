{
 "cells": [
  {
   "cell_type": "code",
   "execution_count": null,
   "id": "23713f93",
   "metadata": {},
   "outputs": [],
   "source": [
    "from py3Dmol import view\n",
    "# javascript API itself is based on json."
   ]
  },
  {
   "cell_type": "markdown",
   "id": "a2e01907",
   "metadata": {},
   "source": [
    "### 基础展示"
   ]
  },
  {
   "cell_type": "code",
   "execution_count": null,
   "id": "9ee692fe",
   "metadata": {},
   "outputs": [],
   "source": [
    "mols = open('./molecules/example1-1.xyz', 'r').read()\n",
    "mols2 = open('./molecules/example1-2.xyz', 'r').read()\n",
    "\n",
    "viewer = view()\n",
    "viewer.removeAllModels()\n",
    "viewer.addModel(mols, 'xyz', )\n",
    "viewer.addModel(mols2, 'xyz', )\n",
    "viewer.setStyle({'stick':{}, 'sphere':{'scale':0.2}}, )\n",
    "viewer.setBackgroundColor('white', )\n",
    "viewer.setProjection('orthographic', )\n",
    "viewer.zoomTo()\n",
    "\n",
    "viewer.render()"
   ]
  },
  {
   "cell_type": "code",
   "execution_count": null,
   "id": "139ef422",
   "metadata": {},
   "outputs": [],
   "source": [
    "mol = open('./molecules/1crn.pdb1', 'r').read()\n",
    "\n",
    "viewer = view()\n",
    "viewer.removeAllModels()\n",
    "viewer.addModel(mol, 'pdb', )\n",
    "viewer.setStyle({'model': -1}, {'cartoon': {'color': 'spectrum'}}, )\n",
    "viewer.setBackgroundColor('white', )\n",
    "viewer.setProjection('orthographic', )\n",
    "viewer.zoomTo()\n",
    "\n",
    "viewer.render()\n"
   ]
  },
  {
   "cell_type": "markdown",
   "id": "554cd6b6",
   "metadata": {},
   "source": [
    "### 对同一分子不同部分使用不同颜色"
   ]
  },
  {
   "cell_type": "code",
   "execution_count": null,
   "id": "82c18bda",
   "metadata": {},
   "outputs": [],
   "source": [
    "mol = open('./molecules/1crn.pdb1', 'r').read()\n",
    "\n",
    "viewer = view()\n",
    "viewer.removeAllModels()\n",
    "viewer.addModelsAsFrames(mol)\n",
    "\n",
    "counter = 0\n",
    "for line in mol.split('\\n'):\n",
    "    token = line.split()\n",
    "    if len(token) == 0 or token[0] != \"ATOM\":\n",
    "        continue\n",
    "    if token[3] == \"PRO\":\n",
    "        c = 'yellow'\n",
    "    else:\n",
    "        c = 'red'\n",
    "\n",
    "    viewer.setStyle({'model': -1, 'serial': counter+1}, {'cartoon': {'color': c}})\n",
    "    counter += 1\n",
    "\n",
    "viewer.setBackgroundColor('white', )\n",
    "viewer.setProjection('orthographic', )\n",
    "viewer.zoomTo()\n",
    "\n",
    "viewer.render()"
   ]
  },
  {
   "cell_type": "markdown",
   "id": "6a2c69f1",
   "metadata": {},
   "source": [
    "### 对同一分子中的不同部分使用不同的表示方式"
   ]
  },
  {
   "cell_type": "code",
   "execution_count": null,
   "id": "8cf493f6",
   "metadata": {},
   "outputs": [],
   "source": [
    "\n",
    "mol = open('./molecules/1crn.pdb1', 'r').read()\n",
    "\n",
    "viewer = view()\n",
    "viewer.removeAllModels()\n",
    "viewer.addModelsAsFrames(mol)\n",
    "\n",
    "counter = 0\n",
    "for line in mol.split('\\n'):\n",
    "    token = line.split()\n",
    "    if len(token) == 0 or token[0] != \"ATOM\":\n",
    "        continue\n",
    "    if token[3] == \"PRO\":\n",
    "        c = 'yellow'\n",
    "        viewer.setStyle({'model': -1, 'serial': counter+1}, {'sphere': {'color': c}})\n",
    "    else:\n",
    "        c = 'red'\n",
    "        viewer.setStyle({'model': -1, 'serial': counter+1}, {'cartoon': {'color': c}})\n",
    "\n",
    "    counter += 1\n",
    "\n",
    "viewer.setBackgroundColor('white', )\n",
    "viewer.setProjection('orthographic', )\n",
    "viewer.zoomTo()\n",
    "\n",
    "viewer.render()"
   ]
  },
  {
   "cell_type": "markdown",
   "id": "9ffa0af8",
   "metadata": {},
   "source": [
    "### 动画"
   ]
  },
  {
   "cell_type": "code",
   "execution_count": null,
   "id": "912e53cb",
   "metadata": {},
   "outputs": [],
   "source": [
    "mols = open('./molecules/band3-traj.pdb', 'r').read() # 看来xyz轨迹文件不支持\n",
    "# t = md.load('band3.xtc', top='band3.gro'); t.save_pdb('band3-traj.pdb')",
    "\n",
    "viewer = view()\n",
    "viewer.removeAllModels()\n",
    "viewer.addModelsAsFrames(mols)\n",
    "viewer.setStyle({'model': -1}, {'stick': []}, )\n",
    "viewer.setBackgroundColor('white', )\n",
    "viewer.setProjection('orthographic', )\n",
    "viewer.zoomTo()\n",
    "viewer.animate({'loop': 'forward'})\n",
    "\n",
    "viewer.render()\n"
   ]
  },
  {
   "cell_type": "markdown",
   "source": [
    "### 添加周期盒子"
   ]
  },
  {
  "cell_type": "code",
  "source": [
  "# mols = []\n",
    "# fnames = ['/home/lyh/lyh/KPHI_mono/KPHI_monolayer_withoutwater/KPHI_monolayer_withoutwater_1K3_hfx0/model.xyz']\n",
    "# for fname in fnames:\n",
    "#     with open(fname, 'r') as fp:\n",
    "#         mols.append(fp.read())\n",
    "\n",
    "# viewer = view(viewergrid=(1,1))\n",
    "# for i in range(len(fnames)):\n",
    "#     idx = (0,i)\n",
    "#     viewer.removeAllModels(viewer=idx)\n",
    "#     viewer.addModel(mols[i], 'xyz', viewer=idx)\n",
    "#     # viewer.addVolumetricData(mols[i], 'cube', {'isoval':0.0005, 'color':'yellow', 'opacity':0.5})\n",
    "#     # viewer.addVolumetricData(mols[i], 'cube', {'isoval':-0.0005, 'color':'yellow', 'opacity':0.5})\n",
    "#     viewer.addLine({'dashed':True, 'start':{'x':0, 'y':0, 'z':0}, 'end':{'x':25.564, 'y':0, 'z':0}, 'color':'red'})\n",
    "#     viewer.addLine({'dashed':True, 'start':{'x':0, 'y':0, 'z':0}, 'end':{'x':-12.782, 'y':22.139, 'z':0}})\n",
    "#     viewer.addLine({'dashed':True, 'start':{'x':0, 'y':0, 'z':0}, 'end':{'x':0, 'y':0, 'z':25.564}})\n",
    "#     viewer.addLine({'dashed':True, 'start':{'x':12.782, 'y':22.139, 'z':0}, 'end':{'x':-12.782, 'y':22.139, 'z':0}})\n",
    "#     viewer.addLine({'dashed':True, 'start':{'x':12.782, 'y':22.139, 'z':0}, 'end':{'x':25.564, 'y':0, 'z':0}})\n",
    "#     viewer.addLine({'dashed':True, 'start':{'x':12.782, 'y':22.139, 'z':0}, 'end':{'x':12.782, 'y':22.139, 'z':25.564}})\n",
    "#     viewer.addLine({'dashed':True, 'start':{'x':0, 'y':0, 'z':25.564}, 'end':{'x':25.564, 'y':0, 'z':25.564}})\n",
    "#     viewer.addLine({'dashed':True, 'start':{'x':0, 'y':0, 'z':25.564}, 'end':{'x':-12.782, 'y':22.139, 'z':25.564}})\n",
    "#     viewer.addLine({'dashed':True, 'start':{'x':0, 'y':0, 'z':25.564}, 'end':{'x':0, 'y':0, 'z':25.564}})\n",
    "#     viewer.addLine({'dashed':True, 'start':{'x':12.782, 'y':22.139, 'z':25.564}, 'end':{'x':-12.782, 'y':22.139, 'z':25.564}})\n",
    "#     viewer.addLine({'dashed':True, 'start':{'x':12.782, 'y':22.139, 'z':25.564}, 'end':{'x':25.564, 'y':0, 'z':25.564}})\n",
    "#     viewer.addLine({'dashed':True, 'start':{'x':-12.782, 'y':22.139, 'z':0}, 'end':{'x':-12.782, 'y':22.139, 'z':25.564}})\n",
    "#     viewer.addLine({'dashed':True, 'start':{'x':25.564, 'y':0, 'z':0}, 'end':{'x':25.564, 'y':0, 'z':25.564}})\n",
    "#     viewer.setStyle({'stick':{}, 'sphere':{'scale':0.3}}, viewer=idx)\n",
    "#     viewer.setBackgroundColor('white', viewer=idx)\n",
    "#     viewer.setProjection('orthographic')\n",
    "#     viewer.setZoomLimits(50,60)\n",
    "#     viewer.zoomTo(viewer=idx)\n",
    "# viewer.show()\n" 
  ]
  },
  {
   "cell_type": "code",
   "execution_count": null,
   "id": "6edd67bb",
   "metadata": {},
   "outputs": [],
   "source": []
  },
  {
   "cell_type": "code",
   "execution_count": null,
   "id": "329412bd",
   "metadata": {},
   "outputs": [],
   "source": []
  },
  {
   "cell_type": "code",
   "execution_count": null,
   "id": "e1df54a7",
   "metadata": {},
   "outputs": [],
   "source": []
  },
  {
   "cell_type": "code",
   "execution_count": null,
   "id": "68b03531",
   "metadata": {},
   "outputs": [],
   "source": []
  },
  {
   "cell_type": "code",
   "execution_count": null,
   "id": "675bcf16",
   "metadata": {},
   "outputs": [],
   "source": []
  },
  {
   "cell_type": "code",
   "execution_count": null,
   "id": "c0cd0839",
   "metadata": {},
   "outputs": [],
   "source": []
  },
  {
   "cell_type": "code",
   "execution_count": null,
   "id": "37e690e7",
   "metadata": {},
   "outputs": [],
   "source": []
  }
 ],
 "metadata": {
  "kernelspec": {
   "display_name": "myenv2",
   "language": "python",
   "name": "python3"
  },
  "language_info": {
   "codemirror_mode": {
    "name": "ipython",
    "version": 3
   },
   "file_extension": ".py",
   "mimetype": "text/x-python",
   "name": "python",
   "nbconvert_exporter": "python",
   "pygments_lexer": "ipython3",
   "version": "3.12.3"
  }
 },
 "nbformat": 4,
 "nbformat_minor": 5
}
